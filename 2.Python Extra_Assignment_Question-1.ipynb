{
 "cells": [
  {
   "cell_type": "code",
   "execution_count": 1,
   "id": "a50578d5-fedb-42c7-b075-711b5ef6547d",
   "metadata": {},
   "outputs": [
    {
     "name": "stdout",
     "output_type": "stream",
     "text": [
      "HOPE AI\n"
     ]
    }
   ],
   "source": [
    "#print Statement\n",
    "print('HOPE AI')"
   ]
  },
  {
   "cell_type": "code",
   "execution_count": 2,
   "id": "e11d7709-9820-4ae1-84b9-53e3e6279674",
   "metadata": {},
   "outputs": [
    {
     "name": "stdin",
     "output_type": "stream",
     "text": [
      "Enter your institute name? : HOPE AI\n"
     ]
    },
    {
     "data": {
      "text/plain": [
       "'HOPE AI'"
      ]
     },
     "execution_count": 2,
     "metadata": {},
     "output_type": "execute_result"
    }
   ],
   "source": [
    "# Buy input\n",
    "input(\"Enter your institute name? :\")"
   ]
  },
  {
   "cell_type": "code",
   "execution_count": 3,
   "id": "5706d9e6-84df-4743-a6a3-31bba46488bc",
   "metadata": {},
   "outputs": [
    {
     "name": "stdin",
     "output_type": "stream",
     "text": [
      "Enter your name : Raj\n",
      "Enter your age : 15\n",
      "Enter your school name : Guru school\n",
      "Enter your drgree : B.E CSE\n"
     ]
    },
    {
     "data": {
      "text/plain": [
       "'B.E CSE'"
      ]
     },
     "execution_count": 3,
     "metadata": {},
     "output_type": "execute_result"
    }
   ],
   "source": [
    "# Buy input\n",
    "input(\"Enter your name :\")\n",
    "input(\"Enter your age :\")\n",
    "input(\"Enter your school name :\")\n",
    "input(\"Enter your drgree :\")"
   ]
  },
  {
   "cell_type": "code",
   "execution_count": 4,
   "id": "ef5af7e0-7275-4ed6-a35f-8b79c49e3bc7",
   "metadata": {},
   "outputs": [
    {
     "name": "stdout",
     "output_type": "stream",
     "text": [
      "a= 43\n",
      "b= 34\n",
      "Add= 77\n"
     ]
    }
   ],
   "source": [
    "#Addition\n",
    "a=43\n",
    "print(\"a= 43\")\n",
    "b=34\n",
    "print(\"b= 34\")\n",
    "add=a+b\n",
    "print(\"Add=\",add)"
   ]
  },
  {
   "cell_type": "code",
   "execution_count": 5,
   "id": "898271e1-3062-443d-bc8a-2b59707fdb34",
   "metadata": {},
   "outputs": [
    {
     "name": "stdout",
     "output_type": "stream",
     "text": [
      "a= 43\n",
      "b= 34\n",
      "Sub= 9\n"
     ]
    }
   ],
   "source": [
    "#Subtraction\n",
    "a=43\n",
    "print(\"a= 43\")\n",
    "b=34\n",
    "print(\"b= 34\")\n",
    "sub=a-b\n",
    "print(\"Sub=\",sub)"
   ]
  },
  {
   "cell_type": "code",
   "execution_count": 6,
   "id": "6650b726-a3c5-459b-831d-ea4dbb8e9664",
   "metadata": {},
   "outputs": [
    {
     "name": "stdout",
     "output_type": "stream",
     "text": [
      "a= 63\n",
      "b= 97\n",
      "Mul=  6111\n"
     ]
    }
   ],
   "source": [
    "#Multiplication\n",
    "a=63\n",
    "print('a= 63')\n",
    "b=97\n",
    "print('b= 97')\n",
    "Mul=a*b\n",
    "print(\"Mul= \", Mul)"
   ]
  },
  {
   "cell_type": "code",
   "execution_count": 7,
   "id": "57550d86-65a0-485a-8cc6-f75862e841f8",
   "metadata": {},
   "outputs": [
    {
     "name": "stdout",
     "output_type": "stream",
     "text": [
      "a= 76\n",
      "b= 31\n",
      "Float Div=  2.4516129032258065\n"
     ]
    }
   ],
   "source": [
    "#Division\n",
    "a=76\n",
    "print('a= 76')\n",
    "b=31\n",
    "print('b= 31')\n",
    "Div=a/b\n",
    "print(\"Float Div= \", Div)"
   ]
  },
  {
   "cell_type": "code",
   "execution_count": 8,
   "id": "0e56ef6b-983d-422c-b80a-62b5b65ff733",
   "metadata": {},
   "outputs": [
    {
     "name": "stdout",
     "output_type": "stream",
     "text": [
      "a= 76\n",
      "b= 31\n",
      "Floor Div=  2\n"
     ]
    }
   ],
   "source": [
    "#Floor Division\n",
    "a=76\n",
    "print('a= 76')\n",
    "b=31\n",
    "print('b= 31')\n",
    "Div=a//b\n",
    "print(\"Floor Div= \", Div)"
   ]
  },
  {
   "cell_type": "code",
   "execution_count": 9,
   "id": "821efb00-7c25-4cd4-8f7a-00886e593e32",
   "metadata": {},
   "outputs": [
    {
     "name": "stdout",
     "output_type": "stream",
     "text": [
      "a= 76\n",
      "b= 31\n",
      "Modulo=  14\n"
     ]
    }
   ],
   "source": [
    "#Modulo - The Python modulo operator calculates the remainder of dividing two values\n",
    "a=76\n",
    "print('a= 76')\n",
    "b=31\n",
    "print('b= 31')\n",
    "Mod=a%b\n",
    "print(\"Modulo= \", Mod)"
   ]
  },
  {
   "cell_type": "code",
   "execution_count": 10,
   "id": "516b5aad-528a-4d81-b78c-6f0679f949e8",
   "metadata": {},
   "outputs": [
    {
     "name": "stdout",
     "output_type": "stream",
     "text": [
      "a= 4\n",
      "b= 4\n",
      "Power=  256\n"
     ]
    }
   ],
   "source": [
    "#Power\n",
    "a=4\n",
    "print('a= 4')\n",
    "b=4\n",
    "print('b= 4')\n",
    "Pow=a**b\n",
    "print(\"Power= \", Pow)"
   ]
  }
 ],
 "metadata": {
  "kernelspec": {
   "display_name": "Python 3 (ipykernel)",
   "language": "python",
   "name": "python3"
  },
  "language_info": {
   "codemirror_mode": {
    "name": "ipython",
    "version": 3
   },
   "file_extension": ".py",
   "mimetype": "text/x-python",
   "name": "python",
   "nbconvert_exporter": "python",
   "pygments_lexer": "ipython3",
   "version": "3.12.4"
  }
 },
 "nbformat": 4,
 "nbformat_minor": 5
}
