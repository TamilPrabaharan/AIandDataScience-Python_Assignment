{
 "cells": [
  {
   "cell_type": "code",
   "execution_count": 1,
   "id": "dda63737-3bfc-4cd8-a7be-8797d2c2bd81",
   "metadata": {},
   "outputs": [
    {
     "name": "stdout",
     "output_type": "stream",
     "text": [
      "Welcome to Assignment-1\n"
     ]
    }
   ],
   "source": [
    "print('Welcome to Assignment-1')"
   ]
  },
  {
   "cell_type": "code",
   "execution_count": 2,
   "id": "92840810-d804-4b51-bee7-361235934358",
   "metadata": {},
   "outputs": [
    {
     "name": "stdout",
     "output_type": "stream",
     "text": [
      "Num1=  10\n",
      "num2=  30\n",
      "Add=  40\n"
     ]
    }
   ],
   "source": [
    "num1=10\n",
    "print(\"Num1= \", num1)\n",
    "num2=30\n",
    "print(\"num2= \", num2)\n",
    "add=num1+num2\n",
    "print(\"Add= \", add)\n"
   ]
  },
  {
   "cell_type": "code",
   "execution_count": 3,
   "id": "88e04fb1-2810-430e-a815-26dc4fe7147f",
   "metadata": {},
   "outputs": [
    {
     "name": "stdin",
     "output_type": "stream",
     "text": [
      "Enter the BMI Index:  34\n"
     ]
    }
   ],
   "source": [
    "bmi=int(input(\"Enter the BMI Index: \"))"
   ]
  },
  {
   "cell_type": "code",
   "execution_count": 4,
   "id": "4503d0b1-c11d-43de-a6a1-f0ab14cd5974",
   "metadata": {},
   "outputs": [
    {
     "name": "stdout",
     "output_type": "stream",
     "text": [
      "Very Overweight\n"
     ]
    }
   ],
   "source": [
    "if (bmi<18):\n",
    "    print(\"Underweight\")\n",
    "elif(bmi<25):\n",
    "    print(\"Normal\")\n",
    "elif(bmi<40):\n",
    "    print(\"Very Overweight\")\n",
    "else:\n",
    "    print(\"Obese\")"
   ]
  }
 ],
 "metadata": {
  "kernelspec": {
   "display_name": "Python 3 (ipykernel)",
   "language": "python",
   "name": "python3"
  },
  "language_info": {
   "codemirror_mode": {
    "name": "ipython",
    "version": 3
   },
   "file_extension": ".py",
   "mimetype": "text/x-python",
   "name": "python",
   "nbconvert_exporter": "python",
   "pygments_lexer": "ipython3",
   "version": "3.12.4"
  }
 },
 "nbformat": 4,
 "nbformat_minor": 5
}
