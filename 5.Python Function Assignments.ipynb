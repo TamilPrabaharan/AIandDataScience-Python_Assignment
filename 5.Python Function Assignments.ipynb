{
 "cells": [
  {
   "cell_type": "code",
   "execution_count": 1,
   "id": "72f9752a-b9e1-45f8-8138-76dded7b1b9e",
   "metadata": {},
   "outputs": [],
   "source": [
    "# Create a function, and list out the items in the list\n",
    "def Subfields():\n",
    "        subfields = [\n",
    "            \"Machine Learning\",\n",
    "            \"Neural Networks\",\n",
    "            \"Vision\",\n",
    "            \"Robotics\",\n",
    "            \"Speech Processing\",\n",
    "            \"Natural Language Processing\"\n",
    "        ]\n",
    "        print(\"Sub-fields in AI are:\")\n",
    "        for subfield in subfields:\n",
    "            print(subfield)"
   ]
  },
  {
   "cell_type": "code",
   "execution_count": 2,
   "id": "16f1221b-6128-4ff9-b40c-f60d527a90fd",
   "metadata": {},
   "outputs": [
    {
     "name": "stdout",
     "output_type": "stream",
     "text": [
      "Sub-fields in AI are:\n",
      "Machine Learning\n",
      "Neural Networks\n",
      "Vision\n",
      "Robotics\n",
      "Speech Processing\n",
      "Natural Language Processing\n"
     ]
    }
   ],
   "source": [
    "Subfields()"
   ]
  },
  {
   "cell_type": "code",
   "execution_count": 3,
   "id": "273b9585-9517-45af-97cc-7f305d7de9ca",
   "metadata": {},
   "outputs": [],
   "source": [
    "# Create a function that checks whether the given number is Odd or Even\n",
    "\n",
    "def OddEven():\n",
    "        num=int(input(\"Enter a number: \"))\n",
    "        if num % 2 == 0:\n",
    "            print(num, \"is Even number\")\n",
    "            message=\"This is Even number\"\n",
    "        else:\n",
    "            print(num, \"is Odd number\")\n",
    "            message=\"This is Odd number\"\n",
    "            return message"
   ]
  },
  {
   "cell_type": "code",
   "execution_count": 4,
   "id": "db7ff70f-0aa3-4da6-a16b-32ab2e6835c5",
   "metadata": {},
   "outputs": [
    {
     "name": "stdin",
     "output_type": "stream",
     "text": [
      "Enter a number:  76783\n"
     ]
    },
    {
     "name": "stdout",
     "output_type": "stream",
     "text": [
      "76783 is Odd number\n"
     ]
    },
    {
     "data": {
      "text/plain": [
       "'This is Odd number'"
      ]
     },
     "execution_count": 4,
     "metadata": {},
     "output_type": "execute_result"
    }
   ],
   "source": [
    "OddEven()"
   ]
  },
  {
   "cell_type": "code",
   "execution_count": 5,
   "id": "8f31c51e-743d-45a8-9480-f372ea32e157",
   "metadata": {},
   "outputs": [],
   "source": [
    "# Create a function that tells elegibility of marriage for male and female according to their age limit like 21 for male and 18 for female\n",
    "\n",
    "def Eligible():\n",
    "        gender = input(\"Your Gender (Male/Female): \").strip().lower()\n",
    "        age = int(input(\"Your Age: \"))\n",
    "        if gender == \"male\" and age > 21:\n",
    "            print(\"ELIGIBLE\")\n",
    "            message1=\"ELIGIBLE\"\n",
    "        elif gender == \"female\" and age > 18:\n",
    "            print(\"ELIGIBLE\")\n",
    "            message1=\"ELIGIBLE\"\n",
    "        else:\n",
    "            print(\"NOT ELIGIBLE\")\n",
    "            message1=\"NOT ELIGIBLE\"\n",
    "        return message1"
   ]
  },
  {
   "cell_type": "code",
   "execution_count": 6,
   "id": "66c39242-63b6-44da-ba88-4f01bf7d2346",
   "metadata": {},
   "outputs": [
    {
     "name": "stdin",
     "output_type": "stream",
     "text": [
      "Your Gender (Male/Female):  male\n",
      "Your Age:  30\n"
     ]
    },
    {
     "name": "stdout",
     "output_type": "stream",
     "text": [
      "ELIGIBLE\n"
     ]
    },
    {
     "data": {
      "text/plain": [
       "'ELIGIBLE'"
      ]
     },
     "execution_count": 6,
     "metadata": {},
     "output_type": "execute_result"
    }
   ],
   "source": [
    "Eligible()"
   ]
  },
  {
   "cell_type": "code",
   "execution_count": 7,
   "id": "89d4a29a-3c24-4909-a6bc-f6596e7cc4fd",
   "metadata": {},
   "outputs": [],
   "source": [
    "# calculate the percentage of your 10th mark\n",
    "\n",
    "def percentage():\n",
    "        sub1=int(input(\"Subject1= \"))\n",
    "        sub2=int(input(\"Subject2= \"))\n",
    "        sub3=int(input(\"Subject3= \"))\n",
    "        sub4=int(input(\"Subject4= \"))\n",
    "        sub5=int(input(\"Subject5= \"))\n",
    "        \n",
    "        tot=(sub1+sub2+sub3+sub4+sub5)\n",
    "        print(\"Total= \", tot)\n",
    "        message3=\"Total\"\n",
    "        \n",
    "        per=(sub1+sub2+sub3+sub4+sub5)/5\n",
    "        print(\"Percentage= \", per)\n",
    "        message3=\"Percentage\"\n",
    "        return message3"
   ]
  },
  {
   "cell_type": "code",
   "execution_count": 8,
   "id": "834a14d3-2cdb-4a85-b609-e3d315e5be66",
   "metadata": {},
   "outputs": [
    {
     "name": "stdin",
     "output_type": "stream",
     "text": [
      "Subject1=  89\n",
      "Subject2=  95\n",
      "Subject3=  96\n",
      "Subject4=  98\n",
      "Subject5=  99\n"
     ]
    },
    {
     "name": "stdout",
     "output_type": "stream",
     "text": [
      "Total=  477\n",
      "Percentage=  95.4\n"
     ]
    },
    {
     "data": {
      "text/plain": [
       "'Percentage'"
      ]
     },
     "execution_count": 8,
     "metadata": {},
     "output_type": "execute_result"
    }
   ],
   "source": [
    "percentage()"
   ]
  },
  {
   "cell_type": "code",
   "execution_count": 9,
   "id": "296f8887-8e8e-4aa7-bea5-365e4f37a13c",
   "metadata": {},
   "outputs": [],
   "source": [
    "#print area and perimeter of triangle using class and functions\n",
    "\n",
    "def triangle():\n",
    "        height=int(input(\"Height= \"))\n",
    "        breadth=int(input(\"Breadth= \"))\n",
    "        print(\"Area formula: (Height*Breadth)/2\")\n",
    "        Area=(height*breadth)/2\n",
    "        print(\"Area of Triangle: \", Area)\n",
    "\n",
    "        height1=int(input(\"Height1= \"))\n",
    "        height2=int(input(\"Height2= \"))\n",
    "        breadth=int(input(\"Breadth= \"))\n",
    "        print(\"Perimeter formula: Height1+Height2+Breadth\")\n",
    "        Perimeter= height1+height2+breadth\n",
    "        print(\"Perimeter of Triangle: \", Perimeter)\n",
    "        "
   ]
  },
  {
   "cell_type": "code",
   "execution_count": 10,
   "id": "c34d8c17-a000-4789-a328-c0628e77e4cf",
   "metadata": {},
   "outputs": [
    {
     "name": "stdin",
     "output_type": "stream",
     "text": [
      "Height=  8\n",
      "Breadth=  9\n"
     ]
    },
    {
     "name": "stdout",
     "output_type": "stream",
     "text": [
      "Area formula: (Height*Breadth)/2\n",
      "Area of Triangle:  36.0\n"
     ]
    },
    {
     "name": "stdin",
     "output_type": "stream",
     "text": [
      "Height1=  5\n",
      "Height2=  6\n",
      "Breadth=  8\n"
     ]
    },
    {
     "name": "stdout",
     "output_type": "stream",
     "text": [
      "Perimeter formula: Height1+Height2+Breadth\n",
      "Perimeter of Triangle:  19\n"
     ]
    }
   ],
   "source": [
    "triangle()"
   ]
  }
 ],
 "metadata": {
  "kernelspec": {
   "display_name": "Python 3 (ipykernel)",
   "language": "python",
   "name": "python3"
  },
  "language_info": {
   "codemirror_mode": {
    "name": "ipython",
    "version": 3
   },
   "file_extension": ".py",
   "mimetype": "text/x-python",
   "name": "python",
   "nbconvert_exporter": "python",
   "pygments_lexer": "ipython3",
   "version": "3.12.4"
  }
 },
 "nbformat": 4,
 "nbformat_minor": 5
}
