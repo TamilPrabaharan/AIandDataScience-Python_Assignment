{
 "cells": [
  {
   "cell_type": "code",
   "execution_count": 1,
   "id": "72f9752a-b9e1-45f8-8138-76dded7b1b9e",
   "metadata": {},
   "outputs": [],
   "source": [
    "# Create a class and function, and list out the items in the list\n",
    "class SubfieldsInAI:\n",
    "    def Subfields():\n",
    "        subfields = [\n",
    "            \"Machine Learning\",\n",
    "            \"Neural Networks\",\n",
    "            \"Vision\",\n",
    "            \"Robotics\",\n",
    "            \"Speech Processing\",\n",
    "            \"Natural Language Processing\"\n",
    "        ]\n",
    "        print(\"Sub-fields in AI are:\")\n",
    "        for subfield in subfields:\n",
    "            print(subfield)"
   ]
  },
  {
   "cell_type": "code",
   "execution_count": 2,
   "id": "16f1221b-6128-4ff9-b40c-f60d527a90fd",
   "metadata": {},
   "outputs": [
    {
     "name": "stdout",
     "output_type": "stream",
     "text": [
      "Sub-fields in AI are:\n",
      "Machine Learning\n",
      "Neural Networks\n",
      "Vision\n",
      "Robotics\n",
      "Speech Processing\n",
      "Natural Language Processing\n"
     ]
    }
   ],
   "source": [
    "SubfieldsInAI.Subfields()"
   ]
  },
  {
   "cell_type": "code",
   "execution_count": 3,
   "id": "273b9585-9517-45af-97cc-7f305d7de9ca",
   "metadata": {},
   "outputs": [],
   "source": [
    "# Create a function that checks whether the given number is Odd or Even\n",
    "\n",
    "class OddEven:\n",
    "    def OddEven():\n",
    "        num=int(input(\"Enter a number: \"))\n",
    "        if num % 2 == 0:\n",
    "            print(num, \"is Even number\")\n",
    "            message=\"This is even number\"\n",
    "        else:\n",
    "            print(num, \"is Odd number\")\n",
    "            message=\"This is odd number\"\n",
    "        return message"
   ]
  },
  {
   "cell_type": "code",
   "execution_count": 4,
   "id": "db7ff70f-0aa3-4da6-a16b-32ab2e6835c5",
   "metadata": {},
   "outputs": [
    {
     "name": "stdin",
     "output_type": "stream",
     "text": [
      "Enter a number:  78654\n"
     ]
    },
    {
     "name": "stdout",
     "output_type": "stream",
     "text": [
      "78654 is Even number\n"
     ]
    },
    {
     "data": {
      "text/plain": [
       "'This is even number'"
      ]
     },
     "execution_count": 4,
     "metadata": {},
     "output_type": "execute_result"
    }
   ],
   "source": [
    "OddEven.OddEven()"
   ]
  },
  {
   "cell_type": "code",
   "execution_count": 5,
   "id": "8f31c51e-743d-45a8-9480-f372ea32e157",
   "metadata": {},
   "outputs": [],
   "source": [
    "# Create a function that tells elegibility of marriage for male and female according to their age limit like 21 for male and 18 for female\n",
    "\n",
    "class EligibilityForMarriage:\n",
    "    def Eligible():\n",
    "        gender = input(\"Your Gender (Male/Female): \").strip().lower()\n",
    "        age = int(input(\"Your Age: \"))\n",
    "        if gender == \"male\" and age > 21:\n",
    "            print(\"ELIGIBLE\")\n",
    "            message1=\"Eligible\"\n",
    "        elif gender == \"female\" and age > 18:\n",
    "            print(\"ELIGIBLE\")\n",
    "            message1=\"Eligible\"\n",
    "        else:\n",
    "            print(\"NOT ELIGIBLE\")\n",
    "            message1=\"Not Eligible\"\n",
    "        return message1"
   ]
  },
  {
   "cell_type": "code",
   "execution_count": 6,
   "id": "7ee07496-7de0-43e8-93d2-cb6671842465",
   "metadata": {},
   "outputs": [
    {
     "name": "stdin",
     "output_type": "stream",
     "text": [
      "Your Gender (Male/Female):  female\n",
      "Your Age:  29\n"
     ]
    },
    {
     "name": "stdout",
     "output_type": "stream",
     "text": [
      "ELIGIBLE\n"
     ]
    },
    {
     "data": {
      "text/plain": [
       "'Eligible'"
      ]
     },
     "execution_count": 6,
     "metadata": {},
     "output_type": "execute_result"
    }
   ],
   "source": [
    "EligibilityForMarriage.Eligible()"
   ]
  },
  {
   "cell_type": "code",
   "execution_count": 7,
   "id": "89d4a29a-3c24-4909-a6bc-f6596e7cc4fd",
   "metadata": {},
   "outputs": [],
   "source": [
    "# calculate the percentage of your 10th mark\n",
    "\n",
    "class FindPercent:\n",
    "    def percentage():\n",
    "        sub1=int(input(\"Subject1= \"))\n",
    "        sub2=int(input(\"Subject2= \"))\n",
    "        sub3=int(input(\"Subject3= \"))\n",
    "        sub4=int(input(\"Subject4= \"))\n",
    "        sub5=int(input(\"Subject5= \"))\n",
    "        \n",
    "        tot=(sub1+sub2+sub3+sub4+sub5)\n",
    "        print(\"Total= \", tot)\n",
    "        message2=\"Total\"\n",
    "        \n",
    "        per=(sub1+sub2+sub3+sub4+sub5)/5\n",
    "        print(\"Percentage= \", per)\n",
    "        message2=\"Percentage\""
   ]
  },
  {
   "cell_type": "code",
   "execution_count": 8,
   "id": "75b1c69f-dae4-4bd2-9e23-14fc5f7a6def",
   "metadata": {},
   "outputs": [
    {
     "name": "stdin",
     "output_type": "stream",
     "text": [
      "Subject1=  89\n",
      "Subject2=  88\n",
      "Subject3=  98\n",
      "Subject4=  99\n",
      "Subject5=  93\n"
     ]
    },
    {
     "name": "stdout",
     "output_type": "stream",
     "text": [
      "Total=  467\n",
      "Percentage=  93.4\n"
     ]
    }
   ],
   "source": [
    "FindPercent.percentage()"
   ]
  },
  {
   "cell_type": "code",
   "execution_count": 9,
   "id": "296f8887-8e8e-4aa7-bea5-365e4f37a13c",
   "metadata": {},
   "outputs": [],
   "source": [
    "#print area and perimeter of triangle using class and functions\n",
    "\n",
    "class Triangle:\n",
    "    def triangle():\n",
    "        height=int(input(\"Height= \"))\n",
    "        breadth=int(input(\"Breadth= \"))\n",
    "        print(\"Area formula: (Height*Breadth)/2\")\n",
    "        Area=(height*breadth)/2\n",
    "        print(\"Area of Triangle: \", Area)\n",
    "        message3=\"Area\"\n",
    "\n",
    "        height1=int(input(\"Height1= \"))\n",
    "        height2=int(input(\"Height2= \"))\n",
    "        breadth=int(input(\"Breadth= \"))\n",
    "        print(\"Perimeter formula: Height1+Height2+Breadth\")\n",
    "        Perimeter= height1+height2+breadth\n",
    "        print(\"Perimeter of Triangle: \", Perimeter)\n",
    "        message3=\"Perimeter\"\n",
    "        return message3"
   ]
  },
  {
   "cell_type": "code",
   "execution_count": 10,
   "id": "5637a173-80ac-48b9-bcb4-24503c1ce517",
   "metadata": {},
   "outputs": [
    {
     "name": "stdin",
     "output_type": "stream",
     "text": [
      "Height=  8\n",
      "Breadth=  6\n"
     ]
    },
    {
     "name": "stdout",
     "output_type": "stream",
     "text": [
      "Area formula: (Height*Breadth)/2\n",
      "Area of Triangle:  24.0\n"
     ]
    },
    {
     "name": "stdin",
     "output_type": "stream",
     "text": [
      "Height1=  5\n",
      "Height2=  3\n",
      "Breadth=  9\n"
     ]
    },
    {
     "name": "stdout",
     "output_type": "stream",
     "text": [
      "Perimeter formula: Height1+Height2+Breadth\n",
      "Perimeter of Triangle:  17\n"
     ]
    },
    {
     "data": {
      "text/plain": [
       "'Perimeter'"
      ]
     },
     "execution_count": 10,
     "metadata": {},
     "output_type": "execute_result"
    }
   ],
   "source": [
    "Triangle.triangle()"
   ]
  }
 ],
 "metadata": {
  "kernelspec": {
   "display_name": "Python 3 (ipykernel)",
   "language": "python",
   "name": "python3"
  },
  "language_info": {
   "codemirror_mode": {
    "name": "ipython",
    "version": 3
   },
   "file_extension": ".py",
   "mimetype": "text/x-python",
   "name": "python",
   "nbconvert_exporter": "python",
   "pygments_lexer": "ipython3",
   "version": "3.12.4"
  }
 },
 "nbformat": 4,
 "nbformat_minor": 5
}
