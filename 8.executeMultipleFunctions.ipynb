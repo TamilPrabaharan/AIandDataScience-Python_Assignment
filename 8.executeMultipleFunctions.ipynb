{
 "cells": [
  {
   "cell_type": "code",
   "execution_count": 4,
   "id": "51157a69-c0c4-439d-9443-27c80c60fdb0",
   "metadata": {},
   "outputs": [],
   "source": [
    "#from fileName import className\n",
    "\n",
    "from multipleFunctions import differentFunctions"
   ]
  },
  {
   "cell_type": "code",
   "execution_count": 2,
   "id": "70865786-941f-4aae-bda6-cc2a5fb49020",
   "metadata": {},
   "outputs": [
    {
     "name": "stdout",
     "output_type": "stream",
     "text": [
      "Sub-fields in AI are:\n",
      "Machine Learning\n",
      "Neural Networks\n",
      "Vision\n",
      "Robotics\n",
      "Speech Processing\n",
      "Natural Language Processing\n"
     ]
    },
    {
     "data": {
      "text/plain": [
       "'Natural Language Processing'"
      ]
     },
     "execution_count": 2,
     "metadata": {},
     "output_type": "execute_result"
    }
   ],
   "source": [
    "differentFunctions.Subfields()"
   ]
  },
  {
   "cell_type": "code",
   "execution_count": 3,
   "id": "2ecdbb03-a06b-47cc-916c-55f727db9e9a",
   "metadata": {},
   "outputs": [
    {
     "name": "stdin",
     "output_type": "stream",
     "text": [
      "Enter a number:  785472\n"
     ]
    },
    {
     "name": "stdout",
     "output_type": "stream",
     "text": [
      "785472 is Even number\n"
     ]
    },
    {
     "data": {
      "text/plain": [
       "'This is even number'"
      ]
     },
     "execution_count": 3,
     "metadata": {},
     "output_type": "execute_result"
    }
   ],
   "source": [
    "differentFunctions.OddEven()"
   ]
  },
  {
   "cell_type": "code",
   "execution_count": 5,
   "id": "7da84c3e-0ace-4c50-97ef-8a43d97b561d",
   "metadata": {},
   "outputs": [
    {
     "name": "stdin",
     "output_type": "stream",
     "text": [
      "Your Gender (Male/Female):  Male\n",
      "Your Age:  29\n"
     ]
    },
    {
     "name": "stdout",
     "output_type": "stream",
     "text": [
      "ELIGIBLE\n"
     ]
    },
    {
     "data": {
      "text/plain": [
       "'Eligible'"
      ]
     },
     "execution_count": 5,
     "metadata": {},
     "output_type": "execute_result"
    }
   ],
   "source": [
    "differentFunctions.Eligible()"
   ]
  },
  {
   "cell_type": "code",
   "execution_count": 6,
   "id": "1dce315b-f034-4b82-99b2-e6e14d4a50c0",
   "metadata": {},
   "outputs": [
    {
     "name": "stdin",
     "output_type": "stream",
     "text": [
      "Subject1=  90\n",
      "Subject2=  87\n",
      "Subject3=  96\n",
      "Subject4=  98\n",
      "Subject5=  99\n"
     ]
    },
    {
     "name": "stdout",
     "output_type": "stream",
     "text": [
      "Total=  470\n",
      "Percentage=  94.0\n"
     ]
    }
   ],
   "source": [
    "differentFunctions.percentage()"
   ]
  },
  {
   "cell_type": "code",
   "execution_count": 7,
   "id": "3bad682a-bee7-486a-978d-9e937d87c768",
   "metadata": {},
   "outputs": [
    {
     "name": "stdin",
     "output_type": "stream",
     "text": [
      "Height=  8\n",
      "Breadth=  9\n"
     ]
    },
    {
     "name": "stdout",
     "output_type": "stream",
     "text": [
      "Area formula: (Height*Breadth)/2\n",
      "Area of Triangle:  36.0\n"
     ]
    },
    {
     "name": "stdin",
     "output_type": "stream",
     "text": [
      "Height1=  10\n",
      "Height2=  8\n",
      "Breadth=  7\n"
     ]
    },
    {
     "name": "stdout",
     "output_type": "stream",
     "text": [
      "Perimeter formula: Height1+Height2+Breadth\n",
      "Perimeter of Triangle:  25\n"
     ]
    },
    {
     "data": {
      "text/plain": [
       "'Perimeter'"
      ]
     },
     "execution_count": 7,
     "metadata": {},
     "output_type": "execute_result"
    }
   ],
   "source": [
    "differentFunctions.triangle()"
   ]
  }
 ],
 "metadata": {
  "kernelspec": {
   "display_name": "Python 3 (ipykernel)",
   "language": "python",
   "name": "python3"
  },
  "language_info": {
   "codemirror_mode": {
    "name": "ipython",
    "version": 3
   },
   "file_extension": ".py",
   "mimetype": "text/x-python",
   "name": "python",
   "nbconvert_exporter": "python",
   "pygments_lexer": "ipython3",
   "version": "3.12.4"
  }
 },
 "nbformat": 4,
 "nbformat_minor": 5
}
