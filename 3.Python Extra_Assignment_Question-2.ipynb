{
 "cells": [
  {
   "cell_type": "code",
   "execution_count": 10,
   "id": "cd48c6d0-3f4d-4cb2-b3c1-2c9a8186cf73",
   "metadata": {},
   "outputs": [
    {
     "name": "stdout",
     "output_type": "stream",
     "text": [
      "0\n",
      "1\n",
      "2\n",
      "3\n",
      "4\n",
      "5\n",
      "6\n",
      "7\n",
      "8\n",
      "9\n",
      "10\n",
      "11\n",
      "12\n",
      "13\n",
      "14\n",
      "15\n",
      "16\n",
      "17\n",
      "18\n",
      "19\n"
     ]
    }
   ],
   "source": [
    "# print 0 to 20 by using range\n",
    "for num in range(0,20):\n",
    "    print(num)"
   ]
  },
  {
   "cell_type": "code",
   "execution_count": 2,
   "id": "9b98c275-9dfc-40e0-809b-e1467c734887",
   "metadata": {},
   "outputs": [
    {
     "data": {
      "text/plain": [
       "[10, 11, 12, 13, 14, 15, 16, 17, 18, 19]"
      ]
     },
     "execution_count": 2,
     "metadata": {},
     "output_type": "execute_result"
    }
   ],
   "source": [
    "# print range 10 to 20\n",
    "list(range(10,20))"
   ]
  },
  {
   "cell_type": "code",
   "execution_count": 3,
   "id": "f7900376-40df-404f-b85f-4fc80adcd473",
   "metadata": {},
   "outputs": [
    {
     "name": "stdout",
     "output_type": "stream",
     "text": [
      "Number of item in the List: 7\n"
     ]
    }
   ],
   "source": [
    "# Print number of items in the list by using 'len'\n",
    "number =[10, 20, 14, 55, 43, 87, 76]\n",
    "print(\"Number of item in the List:\",len(number))"
   ]
  },
  {
   "cell_type": "code",
   "execution_count": 4,
   "id": "85ebc5f6-e502-40f6-878f-1a8921aead49",
   "metadata": {},
   "outputs": [
    {
     "name": "stdout",
     "output_type": "stream",
     "text": [
      "Artificial Intelligence\n",
      "A\n",
      "r\n",
      "t\n",
      "i\n",
      "f\n",
      "i\n",
      "c\n",
      "i\n",
      "a\n",
      "l\n",
      " \n",
      "I\n",
      "n\n",
      "t\n",
      "e\n",
      "l\n",
      "l\n",
      "i\n",
      "g\n",
      "e\n",
      "n\n",
      "c\n",
      "e\n"
     ]
    }
   ],
   "source": [
    "text = \"Artificial Intelligence\"\n",
    "print(text)\n",
    "\n",
    "for char in text:\n",
    "    print(char)\n"
   ]
  },
  {
   "cell_type": "code",
   "execution_count": 5,
   "id": "40b220e4-20e3-4533-935f-360a2e523bca",
   "metadata": {},
   "outputs": [
    {
     "name": "stdout",
     "output_type": "stream",
     "text": [
      "-Your name-\n",
      "-Your age-\n",
      "-Your profession-\n"
     ]
    }
   ],
   "source": [
    "print(\"-Your name-\")\n",
    "print(\"-Your age-\")\n",
    "print(\"-Your profession-\");"
   ]
  },
  {
   "cell_type": "code",
   "execution_count": 6,
   "id": "4ee2a3d8-6dea-432f-a115-c96928a9963c",
   "metadata": {},
   "outputs": [
    {
     "name": "stdout",
     "output_type": "stream",
     "text": [
      "(1, 'Welcome', 2, 'Hope')\n"
     ]
    }
   ],
   "source": [
    "# Refer this link : https://www.geeksforgeeks.org/python-tuples/\n",
    "# Print this mixered datatype using Tuples\n",
    "Tuple1 = (1, 'Welcome', 2, 'Hope')\n",
    "print(Tuple1)"
   ]
  },
  {
   "cell_type": "code",
   "execution_count": 7,
   "id": "11431eda-66c0-48ba-9014-e61458211989",
   "metadata": {},
   "outputs": [
    {
     "name": "stdout",
     "output_type": "stream",
     "text": [
      "Tuple with nested tuples: \n",
      "((0, 1, 2, 3), ('python', 'HOPE'))\n"
     ]
    }
   ],
   "source": [
    "Tuple1 = (0, 1, 2, 3)\n",
    "Tuple2 = ('python', 'HOPE')\n",
    "Tuple3 = (Tuple1, Tuple2)\n",
    "print(\"Tuple with nested tuples: \")\n",
    "print(Tuple3)"
   ]
  },
  {
   "cell_type": "code",
   "execution_count": 8,
   "id": "eb350549-93f1-4b85-b643-bae67676bbb7",
   "metadata": {},
   "outputs": [
    {
     "name": "stdout",
     "output_type": "stream",
     "text": [
      "19 is Odd\n",
      "25 is Odd\n",
      "1 is Odd\n"
     ]
    }
   ],
   "source": [
    "# print Odd Numbers in the list (20,10,16,19,25,1,276,188)\n",
    "numbers = [20, 10, 16, 19, 25, 1, 276, 188]\n",
    "\n",
    "# Iterate through each number in the list\n",
    "for num in numbers:\n",
    "    if num % 2 != 0:  # Check if the number is odd\n",
    "        print(num,\"is Odd\")"
   ]
  },
  {
   "cell_type": "code",
   "execution_count": 9,
   "id": "1cdbff33-5736-4674-b07d-2f6e941939f1",
   "metadata": {},
   "outputs": [
    {
     "name": "stdout",
     "output_type": "stream",
     "text": [
      "20 is Even\n",
      "10 is Even\n",
      "16 is Even\n",
      "276 is Even\n",
      "188 is Even\n"
     ]
    }
   ],
   "source": [
    "# print Even numbers in the list (20,10,16,19,25,1,276,188)\n",
    "numbers = [20,10,16,19,25,1,276,188]\n",
    "\n",
    "for num in numbers:\n",
    "    if num % 2 == 0:\n",
    "        print(num,\"is Even\")"
   ]
  }
 ],
 "metadata": {
  "kernelspec": {
   "display_name": "Python 3 (ipykernel)",
   "language": "python",
   "name": "python3"
  },
  "language_info": {
   "codemirror_mode": {
    "name": "ipython",
    "version": 3
   },
   "file_extension": ".py",
   "mimetype": "text/x-python",
   "name": "python",
   "nbconvert_exporter": "python",
   "pygments_lexer": "ipython3",
   "version": "3.12.4"
  }
 },
 "nbformat": 4,
 "nbformat_minor": 5
}
